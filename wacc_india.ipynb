{
 "cells": [
  {
   "cell_type": "code",
   "execution_count": 1,
   "id": "ee1c356b-0f6c-4435-a010-9b02af719591",
   "metadata": {},
   "outputs": [
    {
     "name": "stdout",
     "output_type": "stream",
     "text": [
      "The market capitalization for TATASTEEL.NS is 1564792455168\n",
      "The total debt for TATASTEEL.NS is 848930471936\n",
      "The beta of TATASTEEL.NS is: 1.206192\n",
      "The interest expense for TATASTEEL.NS is:62987000000.0\n"
     ]
    }
   ],
   "source": [
    "import yfinance as yf\n",
    "\n",
    "# Create a Ticker object for the company you're interested in (e.g., Apple)\n",
    "ticker_symbol = \"TATASTEEL.NS\"\n",
    "company = yf.Ticker(ticker_symbol)\n",
    "\n",
    "# Get the company's info\n",
    "info = company.info\n",
    "\n",
    "# Get the market capitalization\n",
    "if 'marketCap' in info:\n",
    "    market_cap = info['marketCap']\n",
    "    print(f\"The market capitalization for {ticker_symbol} is {market_cap}\")\n",
    "\n",
    "# Get the total debt\n",
    "if 'totalDebt' in info:\n",
    "    total_debt = info['totalDebt']\n",
    "    print(f\"The total debt for {ticker_symbol} is {total_debt}\")\n",
    "\n",
    "if 'beta' in info:\n",
    "    beta = company.info[\"beta\"]\n",
    "    print(f\"The beta of {ticker_symbol} is: {beta}\")\n",
    "\n",
    "\n",
    "# Get the interest expense\n",
    "interest_expense = company.financials['2023-03-31']['Interest Expense']\n",
    "print(f\"The interest expense for {ticker_symbol} is:{interest_expense}\")\n"
   ]
  },
  {
   "cell_type": "code",
   "execution_count": 2,
   "id": "8d2809e7-0b6f-4e3c-b7f4-4827020f99a6",
   "metadata": {},
   "outputs": [
    {
     "data": {
      "text/plain": [
       "0.3517099922295357"
      ]
     },
     "execution_count": 2,
     "metadata": {},
     "output_type": "execute_result"
    }
   ],
   "source": [
    "#weight of debt = d/e+d\n",
    "\n",
    "weight_of_debt= (total_debt/(market_cap+total_debt))\n",
    "weight_of_debt\n"
   ]
  },
  {
   "cell_type": "code",
   "execution_count": 3,
   "id": "ec4b27d4-0767-498d-a2a8-58d51e89fa6c",
   "metadata": {},
   "outputs": [
    {
     "data": {
      "text/plain": [
       "0.05045308351615984"
      ]
     },
     "execution_count": 3,
     "metadata": {},
     "output_type": "execute_result"
    }
   ],
   "source": [
    "#cost of debt = (interest/total debt)(1-tax rate)\n",
    "\n",
    "tax_rate=0.32\n",
    "cost_of_debt= (interest_expense/total_debt)*(1-tax_rate)\n",
    "cost_of_debt\n"
   ]
  },
  {
   "cell_type": "code",
   "execution_count": 4,
   "id": "73ebfe37-36fc-4c4e-a47c-375c6162cd70",
   "metadata": {},
   "outputs": [
    {
     "data": {
      "text/plain": [
       "0.6482900077704643"
      ]
     },
     "execution_count": 4,
     "metadata": {},
     "output_type": "execute_result"
    }
   ],
   "source": [
    "#weight of equity= e/e+d\n",
    "\n",
    "weight_of_equity= (market_cap/(market_cap+total_debt))\n",
    "weight_of_equity"
   ]
  },
  {
   "cell_type": "code",
   "execution_count": 5,
   "id": "0d49ade5-1e7f-4448-8f48-7d74494b188a",
   "metadata": {},
   "outputs": [
    {
     "data": {
      "text/plain": [
       "0.1314096"
      ]
     },
     "execution_count": 5,
     "metadata": {},
     "output_type": "execute_result"
    }
   ],
   "source": [
    "#cost of equity\n",
    "\n",
    "equity_risk_premium= 5.00 #source=(https://pages.stern.nyu.edu/~adamodar/New_Home_Page/datafile/ctryprem.html)\n",
    "risk_free_rate=7.11\n",
    "\n",
    "cost_of_equity=(risk_free_rate+beta*equity_risk_premium)/100\n",
    "cost_of_equity\n"
   ]
  },
  {
   "cell_type": "code",
   "execution_count": 6,
   "id": "5a09791a-3216-49c2-b703-1897929bd25c",
   "metadata": {},
   "outputs": [
    {
     "name": "stdout",
     "output_type": "stream",
     "text": [
      "The discount rate for TATASTEEL.NS is 10.29363842165383%\n"
     ]
    }
   ],
   "source": [
    "Discount_rate = (weight_of_debt*cost_of_debt+weight_of_equity*cost_of_equity)*100\n",
    "print(f\"The discount rate for {ticker_symbol} is {Discount_rate}%\")"
   ]
  },
  {
   "cell_type": "code",
   "execution_count": null,
   "id": "bfb45138-6948-4d66-9f3f-2b63fcea00f7",
   "metadata": {},
   "outputs": [],
   "source": []
  },
  {
   "cell_type": "code",
   "execution_count": null,
   "id": "f949cb2b-12bb-4ec2-a2c9-ddcdb956ded0",
   "metadata": {},
   "outputs": [],
   "source": []
  },
  {
   "cell_type": "code",
   "execution_count": null,
   "id": "158386ed-fc83-472f-97d6-c68d71f364de",
   "metadata": {},
   "outputs": [],
   "source": []
  }
 ],
 "metadata": {
  "kernelspec": {
   "display_name": "Python 3 (ipykernel)",
   "language": "python",
   "name": "python3"
  },
  "language_info": {
   "codemirror_mode": {
    "name": "ipython",
    "version": 3
   },
   "file_extension": ".py",
   "mimetype": "text/x-python",
   "name": "python",
   "nbconvert_exporter": "python",
   "pygments_lexer": "ipython3",
   "version": "3.11.4"
  }
 },
 "nbformat": 4,
 "nbformat_minor": 5
}
